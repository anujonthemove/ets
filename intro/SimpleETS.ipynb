{
 "cells": [
  {
   "cell_type": "code",
   "execution_count": 1,
   "metadata": {
    "collapsed": false
   },
   "outputs": [
    {
     "name": "stdout",
     "output_type": "stream",
     "text": [
      "Epoch: 0050 cost= 6.586448669 initial= 1.11438 alpha= 0.783126\n",
      "Epoch: 0100 cost= 6.582406521 initial= 1.15763 alpha= 0.778525\n",
      "Epoch: 0150 cost= 6.581842422 initial= 1.17378 alpha= 0.776839\n",
      "Epoch: 0200 cost= 6.581765175 initial= 1.1798 alpha= 0.776215\n",
      "Epoch: 0250 cost= 6.581753731 initial= 1.18204 alpha= 0.775984\n",
      "Epoch: 0300 cost= 6.581752300 initial= 1.18287 alpha= 0.775898\n",
      "Epoch: 0350 cost= 6.581751823 initial= 1.18318 alpha= 0.775866\n",
      "Epoch: 0400 cost= 6.581751823 initial= 1.1833 alpha= 0.775855\n",
      "Epoch: 0450 cost= 6.581752300 initial= 1.18334 alpha= 0.77585\n",
      "Epoch: 0500 cost= 6.581751823 initial= 1.18336 alpha= 0.775849\n",
      "Epoch: 0550 cost= 6.581751823 initial= 1.18336 alpha= 0.775848\n",
      "Epoch: 0600 cost= 6.581751823 initial= 1.18336 alpha= 0.775848\n",
      "Epoch: 0650 cost= 6.581751823 initial= 1.18336 alpha= 0.775848\n",
      "Epoch: 0700 cost= 6.581751823 initial= 1.18336 alpha= 0.775848\n",
      "Epoch: 0750 cost= 6.581751823 initial= 1.18336 alpha= 0.775848\n",
      "Epoch: 0800 cost= 6.581751823 initial= 1.18336 alpha= 0.775848\n",
      "Epoch: 0850 cost= 6.581751823 initial= 1.18336 alpha= 0.775848\n",
      "Epoch: 0900 cost= 6.581751823 initial= 1.18336 alpha= 0.775848\n",
      "Epoch: 0950 cost= 6.581751823 initial= 1.18336 alpha= 0.775848\n",
      "Epoch: 1000 cost= 6.581751823 initial= 1.18336 alpha= 0.775848\n",
      "Optimization Finished!\n",
      "Training cost= 6.58175 initial= 1.18336 alpha= 0.775848 \n",
      "\n"
     ]
    }
   ],
   "source": [
    "import numpy as np\n",
    "import tensorflow as tf\n",
    "\n",
    "# Meta-parameters and debugging knobs\n",
    "learning_rate = 0.01\n",
    "training_epochs = 1000\n",
    "display_step = 50\n",
    "\n",
    "# Test data\n",
    "y = np.asarray([1.0, 2.0, 1.0, 2.0, 1.0, 2.0, 3.0, 4.0])\n",
    "num_steps = y.shape[0]\n",
    "\n",
    "# Input data placeholders\n",
    "data_in = tf.placeholder('float')\n",
    "data_out = tf.placeholder('float')\n",
    "\n",
    "# ETS params\n",
    "initial = tf.Variable(1., name = 'initial', dtype = tf.float32)\n",
    "alpha = tf.Variable(0.8, name = 'alpha', dtype = tf.float32)\n",
    "\n",
    "# Definition of the ETS update\n",
    "def update(i, state):\n",
    "    return state, tf.add(tf.mul(alpha, i), tf.mul(1.0 - alpha, state))\n",
    "\n",
    "# Unrolled ETS loop\n",
    "outputs = []\n",
    "state = initial\n",
    "for time_step in range(num_steps):\n",
    "    output, state = update(data_in[time_step], state)\n",
    "    outputs.append(output)\n",
    "\n",
    "# Mean squared error\n",
    "cost = tf.reduce_sum(tf.pow(tf.pack(outputs) - data_out, 2))\n",
    "\n",
    "# Gradient descent\n",
    "optimizer = tf.train.GradientDescentOptimizer(learning_rate).minimize(cost)\n",
    "\n",
    "# Initializing the variables\n",
    "init = tf.initialize_all_variables()\n",
    "\n",
    "# Launch the graph\n",
    "with tf.Session() as sess:\n",
    "    sess.run(init)\n",
    "\n",
    "    # Fit the data.    \n",
    "    for epoch in range(training_epochs):\n",
    "        sess.run(optimizer, feed_dict={data_in: y, data_out: y})\n",
    "\n",
    "        # Display logs per epoch step\n",
    "        if (epoch + 1) % display_step == 0:\n",
    "            c = sess.run(cost, feed_dict={data_in: y, data_out: y})\n",
    "            print \"Epoch:\", '%04d' % (epoch+1), \"cost=\", \"{:.9f}\".format(c), \\\n",
    "                \"initial=\", sess.run(initial), \"alpha=\", sess.run(alpha)\n",
    "\n",
    "    print \"Optimization Finished!\"\n",
    "    training_cost = sess.run(cost, feed_dict={data_in: y, data_out: y})\n",
    "    print \"Training cost=\", training_cost, \"initial=\", sess.run(initial), \"alpha=\", sess.run(alpha), '\\n'\n"
   ]
  },
  {
   "cell_type": "markdown",
   "metadata": {},
   "source": [
    "**BOOYAH**\n",
    "\n",
    "And that's a match! The results from R were:\n",
    "```R\n",
    "> ets(c(1, 2, 1, 2, 1, 2, 3, 4), model = 'ANN')\n",
    "ETS(A,N,N) \n",
    "\n",
    "Call:\n",
    " ets(y = c(1, 2, 1, 2, 1, 2, 3, 4), model = \"ANN\") \n",
    "\n",
    "  Smoothing parameters:\n",
    "    alpha = 0.7759 \n",
    "\n",
    "  Initial states:\n",
    "    l = 1.1834 \n",
    "\n",
    "  sigma:  0.907\n",
    "\n",
    "     AIC     AICc      BIC \n",
    "21.07441 27.07441 21.31273 \n",
    "```"
   ]
  },
  {
   "cell_type": "code",
   "execution_count": null,
   "metadata": {
    "collapsed": true
   },
   "outputs": [],
   "source": []
  }
 ],
 "metadata": {
  "kernelspec": {
   "display_name": "Python 2",
   "language": "python",
   "name": "python2"
  },
  "language_info": {
   "codemirror_mode": {
    "name": "ipython",
    "version": 2
   },
   "file_extension": ".py",
   "mimetype": "text/x-python",
   "name": "python",
   "nbconvert_exporter": "python",
   "pygments_lexer": "ipython2",
   "version": "2.7.11"
  }
 },
 "nbformat": 4,
 "nbformat_minor": 0
}
